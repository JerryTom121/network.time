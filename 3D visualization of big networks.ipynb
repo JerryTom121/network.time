{
 "cells": [
  {
   "cell_type": "code",
   "execution_count": 1,
   "metadata": {
    "collapsed": false
   },
   "outputs": [],
   "source": [
    "import numpy as np\n",
    "import random\n",
    "import networkx as nx\n",
    "import matplotlib.pyplot as plt\n",
    "import mmap\n",
    "import time\n",
    "\n",
    "import plotly.plotly as py\n",
    "from scipy import sparse as sp\n",
    "from plotly.graph_objs import *\n",
    "\n",
    "import igraph as ig\n",
    "\n",
    "import json\n",
    "import urllib2"
   ]
  },
  {
   "cell_type": "code",
   "execution_count": 2,
   "metadata": {
    "collapsed": false
   },
   "outputs": [],
   "source": [
    "import plotly \n",
    "plotly.tools.set_credentials_file(username='kolumbianisch', api_key='Sy6MJv8T3iEjvW2QmWrO')"
   ]
  },
  {
   "cell_type": "code",
   "execution_count": 36,
   "metadata": {
    "collapsed": false
   },
   "outputs": [
    {
     "name": "stdout",
     "output_type": "stream",
     "text": [
      "[(1, 0), (2, 0), (3, 0), (3, 2), (4, 0), (5, 0), (6, 0), (7, 0), (8, 0), (9, 0), (11, 10), (11, 3), (11, 2), (11, 0), (12, 11), (13, 11), (14, 11), (15, 11), (17, 16), (18, 16), (18, 17), (19, 16), (19, 17), (19, 18), (20, 16), (20, 17), (20, 18), (20, 19), (21, 16), (21, 17), (21, 18), (21, 19), (21, 20), (22, 16), (22, 17), (22, 18), (22, 19), (22, 20), (22, 21), (23, 16), (23, 17), (23, 18), (23, 19), (23, 20), (23, 21), (23, 22), (23, 12), (23, 11), (24, 23), (24, 11), (25, 24), (25, 23), (25, 11), (26, 24), (26, 11), (26, 16), (26, 25), (27, 11), (27, 23), (27, 25), (27, 24), (27, 26), (28, 11), (28, 27), (29, 23), (29, 27), (29, 11), (30, 23), (31, 30), (31, 11), (31, 23), (31, 27), (32, 11), (33, 11), (33, 27), (34, 11), (34, 29), (35, 11), (35, 34), (35, 29), (36, 34), (36, 35), (36, 11), (36, 29), (37, 34), (37, 35), (37, 36), (37, 11), (37, 29), (38, 34), (38, 35), (38, 36), (38, 37), (38, 11), (38, 29), (39, 25), (40, 25), (41, 24), (41, 25), (42, 41), (42, 25), (42, 24), (43, 11), (43, 26), (43, 27), (44, 28), (44, 11), (45, 28), (47, 46), (48, 47), (48, 25), (48, 27), (48, 11), (49, 26), (49, 11), (50, 49), (50, 24), (51, 49), (51, 26), (51, 11), (52, 51), (52, 39), (53, 51), (54, 51), (54, 49), (54, 26), (55, 51), (55, 49), (55, 39), (55, 54), (55, 26), (55, 11), (55, 16), (55, 25), (55, 41), (55, 48), (56, 49), (56, 55), (57, 55), (57, 41), (57, 48), (58, 55), (58, 48), (58, 27), (58, 57), (58, 11), (59, 58), (59, 55), (59, 48), (59, 57), (60, 48), (60, 58), (60, 59), (61, 48), (61, 58), (61, 60), (61, 59), (61, 57), (61, 55), (62, 55), (62, 58), (62, 59), (62, 48), (62, 57), (62, 41), (62, 61), (62, 60), (63, 59), (63, 48), (63, 62), (63, 57), (63, 58), (63, 61), (63, 60), (63, 55), (64, 55), (64, 62), (64, 48), (64, 63), (64, 58), (64, 61), (64, 60), (64, 59), (64, 57), (64, 11), (65, 63), (65, 64), (65, 48), (65, 62), (65, 58), (65, 61), (65, 60), (65, 59), (65, 57), (65, 55), (66, 64), (66, 58), (66, 59), (66, 62), (66, 65), (66, 48), (66, 63), (66, 61), (66, 60), (67, 57), (68, 25), (68, 11), (68, 24), (68, 27), (68, 48), (68, 41), (69, 25), (69, 68), (69, 11), (69, 24), (69, 27), (69, 48), (69, 41), (70, 25), (70, 69), (70, 68), (70, 11), (70, 24), (70, 27), (70, 41), (70, 58), (71, 27), (71, 69), (71, 68), (71, 70), (71, 11), (71, 48), (71, 41), (71, 25), (72, 26), (72, 27), (72, 11), (73, 48), (74, 48), (74, 73), (75, 69), (75, 68), (75, 25), (75, 48), (75, 41), (75, 70), (75, 71), (76, 64), (76, 65), (76, 66), (76, 63), (76, 62), (76, 48), (76, 58)]\n",
      "[1, 1, 1, 1, 1, 1, 1, 1, 1, 1, 2, 2, 3, 2, 2, 2, 3, 3, 3, 3, 3, 3, 3, 3, 4, 4, 5, 4, 0, 2, 3, 2, 2, 2, 2, 2, 2, 2, 2, 4, 6, 4, 4, 5, 0, 0, 7, 7, 8, 5, 5, 5, 5, 5, 5, 8, 5, 8, 8, 8, 8, 8, 8, 8, 8, 8, 8, 9, 4, 4, 4, 4, 5, 10, 10, 4, 8]\n"
     ]
    },
    {
     "data": {
      "text/html": [
       "<iframe id=\"igraph\" scrolling=\"no\" style=\"border:none;\" seamless=\"seamless\" src=\"https://plot.ly/~kolumbianisch/2.embed\" height=\"1000px\" width=\"1000px\"></iframe>"
      ],
      "text/plain": [
       "<plotly.tools.PlotlyDisplay object>"
      ]
     },
     "execution_count": 36,
     "metadata": {},
     "output_type": "execute_result"
    }
   ],
   "source": [
    "data = []\n",
    "req = urllib2.Request(\"https://raw.githubusercontent.com/plotly/datasets/master/miserables.json\")\n",
    "opener = urllib2.build_opener()\n",
    "f = opener.open(req)\n",
    "data = json.loads(f.read())\n",
    "\n",
    "N=len(data['nodes'])\n",
    "\n",
    "L=len(data['links'])\n",
    "Edges=[(data['links'][k]['source'], data['links'][k]['target']) for k in range(L)]\n",
    "print Edges\n",
    "G=ig.Graph(Edges, directed=False)\n",
    "\n",
    "labels=[]\n",
    "group=[]\n",
    "for node in data['nodes']:\n",
    "    labels.append(node['name'])\n",
    "    group.append(node['group'])\n",
    "    \n",
    "layt=G.layout('kk', dim=3)\n",
    "\n",
    "Xn=[layt[k][0] for k in range(N)]# x-coordinates of nodes\n",
    "Yn=[layt[k][1] for k in range(N)]# y-coordinates\n",
    "Zn=[layt[k][2] for k in range(N)]# z-coordinates\n",
    "Xe=[]\n",
    "Ye=[]\n",
    "Ze=[]\n",
    "for e in Edges:\n",
    "    Xe+=[layt[e[0]][0],layt[e[1]][0], None]# x-coordinates of edge ends\n",
    "    Ye+=[layt[e[0]][1],layt[e[1]][1], None]\n",
    "    Ze+=[layt[e[0]][2],layt[e[1]][2], None]\n",
    "    \n",
    "print group\n",
    "    \n",
    "trace1=Scatter3d(x=Xe,\n",
    "               y=Ye,\n",
    "               z=Ze,\n",
    "               mode='lines',\n",
    "               line=Line(color='rgb(125,125,125)', width=1),\n",
    "               hoverinfo='none'\n",
    "               )\n",
    "trace2=Scatter3d(x=Xn,\n",
    "               y=Yn,\n",
    "               z=Zn,\n",
    "               mode='markers',\n",
    "               name='actors',\n",
    "               marker=Marker(symbol='dot',\n",
    "                             size=6,\n",
    "                             color=group,\n",
    "                             colorscale='Viridis',\n",
    "                             line=Line(color='rgb(50,50,50)', width=0.5)\n",
    "                             ),\n",
    "               text=labels,\n",
    "               hoverinfo='text'\n",
    "               )\n",
    "\n",
    "axis=dict(showbackground=False,\n",
    "          showline=False,\n",
    "          zeroline=False,\n",
    "          showgrid=False,\n",
    "          showticklabels=False,\n",
    "          title=''\n",
    "          )\n",
    "\n",
    "layout = Layout(\n",
    "         title=\"Network of coappearances of characters in Victor Hugo's novel<br> Les Miserables (3D visualization)\",\n",
    "         width=1000,\n",
    "         height=1000,\n",
    "         showlegend=False,\n",
    "         scene=Scene(\n",
    "         xaxis=XAxis(axis),\n",
    "         yaxis=YAxis(axis),\n",
    "         zaxis=ZAxis(axis),\n",
    "        ),\n",
    "     margin=Margin(\n",
    "        t=100\n",
    "    ),\n",
    "    hovermode='closest',\n",
    "    annotations=Annotations([\n",
    "           Annotation(\n",
    "           showarrow=False,\n",
    "            text=\"Data source: <a href='http://bost.ocks.org/mike/miserables/miserables.json'>[1]</a>\",\n",
    "            xref='paper',\n",
    "            yref='paper',\n",
    "            x=0,\n",
    "            y=0.1,\n",
    "            xanchor='left',\n",
    "            yanchor='bottom',\n",
    "            font=Font(\n",
    "            size=14\n",
    "            )\n",
    "            )\n",
    "        ]),    )\n",
    "\n",
    "data=Data([trace1, trace2])\n",
    "fig=Figure(data=data, layout=layout)\n",
    "\n",
    "py.iplot(fig, filename='Les-Miserables')"
   ]
  },
  {
   "cell_type": "code",
   "execution_count": 3,
   "metadata": {
    "collapsed": true
   },
   "outputs": [],
   "source": [
    "def counter(filename):\n",
    "    \"\"\"\n",
    "    Determines the number of nodes in the filename added\n",
    "    \"\"\"\n",
    "    f = open(filename, \"r+\")\n",
    "    buf = mmap.mmap(f.fileno(), 0)\n",
    "    lines = 0\n",
    "    readline = buf.readline\n",
    "    while readline():\n",
    "        lines += 1\n",
    "    return lines"
   ]
  },
  {
   "cell_type": "code",
   "execution_count": 4,
   "metadata": {
    "collapsed": false
   },
   "outputs": [],
   "source": [
    "def loader(filename = \"FB/facebook-wosn-links/out.facebook-wosn-links.txt\", size = 0, timed_ = False, from_ = 1165708800, to_ = time.time()):\n",
    "    \"\"\"\n",
    "    Inputs:\n",
    "        Filename: Contains columns with first and second being source and target\n",
    "            of the edge. It can contain weights and time of edge creation.\n",
    "        Size: Number of lines to be read, number of edges to be taken into account.\n",
    "        Timed: Are we taking into account a timed network?\n",
    "        From: Epoch time of first node.\n",
    "        To: Epoch time of last node.\n",
    "\n",
    "    Outputs:\n",
    "        An RXN array containing the edges of the given file. Rows are edges, co-\n",
    "            lumns are source, target, weight, time respectively.\n",
    "\n",
    "    * We are missing to do anything with the weight\n",
    "    \"\"\"\n",
    "    # This part makes sure the entrance lines are cleared off.\n",
    "    with open(filename) as myfile:\n",
    "        head = [next(myfile) for x in xrange(5)]\n",
    "\n",
    "    contador = 0\n",
    "    for i in head:\n",
    "        linea_head = i.strip().split(' ')\n",
    "        if linea_head[0] == '%':\n",
    "            contador += 1\n",
    "        else:\n",
    "            break\n",
    "\n",
    "    this = counter(filename)\n",
    "\n",
    "    # Number of Edges\n",
    "    if size == False or size > this: # it makes sure that it either does the whole network or the size that you are looking for\n",
    "        lines = this - contador #you can calculate the number of lines to ignore\n",
    "    else:\n",
    "        lines = size\n",
    "\n",
    "    with open(filename, \"r\") as f:\n",
    "        for i in xrange(contador):\n",
    "            secon = next(f).strip().split(' ') # you are loosing your first line\n",
    "        if timed_ == True:\n",
    "            print True\n",
    "            # clear_mat = [i.strip().split(' ') for i in f if int(i.strip().split(' ')[3])>from_ and int(i.strip().split(' ')[3]) < to_]\n",
    "        else:\n",
    "            clear_mat = [tuple(np.array(next(f).strip().split(' '),int)) for i in xrange(lines-contador+1)]\n",
    "    matrix_array = np.array(clear_mat)\n",
    "    \n",
    "    with open('subelj_euroroad/ent.subelj_euroroad_euroroad.city.name.txt') as f:\n",
    "        lines = f.read().splitlines()\n",
    "        \n",
    "    conjunto = sorted(set(matrix_array[:,0]).union(matrix_array[:,1]))\n",
    "    names = [lines[i] for i in conjunto]\n",
    "    \n",
    "    return clear_mat, names"
   ]
  },
  {
   "cell_type": "markdown",
   "metadata": {},
   "source": [
    "### Loading a ton of stuff from roads"
   ]
  },
  {
   "cell_type": "code",
   "execution_count": 7,
   "metadata": {
    "collapsed": false,
    "scrolled": false
   },
   "outputs": [
    {
     "name": "stdout",
     "output_type": "stream",
     "text": [
      "edges  (1416, 2)\n",
      "nodes  1172\n",
      "loading done...\n",
      "graph created...\n",
      "betweenness calculated...\n",
      "before trace\n",
      "done with trace\n",
      "here\n"
     ]
    },
    {
     "data": {
      "text/html": [
       "<iframe id=\"igraph\" scrolling=\"no\" style=\"border:none;\" seamless=\"seamless\" src=\"https://plot.ly/~kolumbianisch/6.embed\" height=\"1000px\" width=\"1000px\"></iframe>"
      ],
      "text/plain": [
       "<plotly.tools.PlotlyDisplay object>"
      ]
     },
     "execution_count": 7,
     "metadata": {},
     "output_type": "execute_result"
    }
   ],
   "source": [
    "Edges, labels_ = loader(filename = \"subelj_euroroad/out.subelj_euroroad_euroroad.txt\", size = 1420)\n",
    "print \"edges \", np.shape(Edges)\n",
    "num_nodes = np.shape(labels_)[0]\n",
    "print \"nodes \", num_nodes\n",
    "print \"loading done...\"\n",
    "G = ig.Graph(Edges, directed=False)\n",
    "print \"graph created...\"\n",
    "between = G.betweenness()\n",
    "print \"betweenness calculated...\"\n",
    "layt = G.layout('kk', dim=3)\n",
    "\n",
    "Xn=[layt[k][0] for k in range(num_nodes)] # x-coordinates of nodes\n",
    "Yn=[layt[k][1] for k in range(num_nodes)] # y-coordinates\n",
    "Zn=[layt[k][2] for k in range(num_nodes)] # z-coordinates\n",
    "Xe=[]\n",
    "Ye=[]\n",
    "Ze=[]\n",
    "\n",
    "for e in Edges:\n",
    "    Xe +=[layt[e[0]][0],layt[e[1]][0], None]# x-coordinates of edge ends\n",
    "    Ye +=[layt[e[0]][1],layt[e[1]][1], None]\n",
    "    Ze +=[layt[e[0]][2],layt[e[1]][2], None]\n",
    "\n",
    "print \"before trace\"\n",
    "\n",
    "trace1 = Scatter3d(x = Xe,\n",
    "               y = Ye,\n",
    "               z = Ze,\n",
    "               mode = 'lines',\n",
    "               line = Line(color='rgb(125,125,125)', width=1),\n",
    "               hoverinfo='none'\n",
    "               )\n",
    "trace2 = Scatter3d(x=Xn,\n",
    "               y=Yn,\n",
    "               z=Zn,\n",
    "               mode = 'markers',\n",
    "               name='Cities',\n",
    "               marker = Marker(symbol='dot',\n",
    "                             size=6,\n",
    "                             color=between,\n",
    "                             colorscale='Viridis',\n",
    "                             line=Line(color='rgb(50,50,50)', width=0.5)\n",
    "                             ),\n",
    "               text=labels_,\n",
    "               hoverinfo='text'\n",
    "               )\n",
    "print \"done with trace\"\n",
    "\n",
    "axis=dict(showbackground=False,\n",
    "          showline=False,\n",
    "          zeroline=True,\n",
    "          showgrid=False,\n",
    "          showticklabels=False,\n",
    "          title=''\n",
    "          )\n",
    "print \"here\"\n",
    "layout = Layout(\n",
    "         title=\"Network of cities in Europe (3D visualization)\",\n",
    "         width=1000,\n",
    "         height=1000,\n",
    "         showlegend=False,\n",
    "         scene=Scene(\n",
    "         xaxis=XAxis(axis),\n",
    "         yaxis=YAxis(axis),\n",
    "         zaxis=ZAxis(axis),\n",
    "        ),\n",
    "     margin=Margin(\n",
    "        t=100\n",
    "    ),\n",
    "    hovermode='closest',\n",
    "    annotations=Annotations([\n",
    "           Annotation(\n",
    "           showarrow=False,\n",
    "            text=\"Data source: <a href='http://konect.uni-koblenz.de/networks/subelj_euroroad'>[1]</a>\",\n",
    "            xref='paper',\n",
    "            yref='paper',\n",
    "            x=0,\n",
    "            y=0.1,\n",
    "            xanchor='left',\n",
    "            yanchor='bottom',\n",
    "            font=Font(\n",
    "            size=14\n",
    "            )\n",
    "            )\n",
    "        ]),    )\n",
    "\n",
    "data = Data([trace1, trace2])\n",
    "fig = Figure(data=data, layout=layout)\n",
    "\n",
    "py.iplot(fig, filename='Euroroad_2000')"
   ]
  },
  {
   "cell_type": "code",
   "execution_count": null,
   "metadata": {
    "collapsed": true
   },
   "outputs": [],
   "source": []
  },
  {
   "cell_type": "code",
   "execution_count": null,
   "metadata": {
    "collapsed": true
   },
   "outputs": [],
   "source": []
  }
 ],
 "metadata": {
  "anaconda-cloud": {},
  "kernelspec": {
   "display_name": "Python [Root]",
   "language": "python",
   "name": "Python [Root]"
  },
  "language_info": {
   "codemirror_mode": {
    "name": "ipython",
    "version": 2
   },
   "file_extension": ".py",
   "mimetype": "text/x-python",
   "name": "python",
   "nbconvert_exporter": "python",
   "pygments_lexer": "ipython2",
   "version": "2.7.12"
  }
 },
 "nbformat": 4,
 "nbformat_minor": 2
}
