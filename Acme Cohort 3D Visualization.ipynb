{
 "cells": [
  {
   "cell_type": "code",
   "execution_count": 43,
   "metadata": {
    "collapsed": false
   },
   "outputs": [
    {
     "name": "stdout",
     "output_type": "stream",
     "text": [
      "edges  (159, 2)\n",
      "nodes  39\n",
      "loading done...\n",
      "graph created...\n",
      "betweenness calculated...\n",
      "before trace\n",
      "done with trace\n",
      "here\n"
     ]
    },
    {
     "data": {
      "text/html": [
       "<iframe id=\"igraph\" scrolling=\"no\" style=\"border:none;\" seamless=\"seamless\" src=\"https://plot.ly/~kolumbianisch/12.embed\" height=\"1000px\" width=\"1000px\"></iframe>"
      ],
      "text/plain": [
       "<plotly.tools.PlotlyDisplay object>"
      ]
     },
     "execution_count": 43,
     "metadata": {},
     "output_type": "execute_result"
    }
   ],
   "source": [
    "Edges, labels_ = notebook_()\n",
    "print \"edges \", np.shape(Edges)\n",
    "num_nodes = np.shape(labels_)[0]\n",
    "print \"nodes \", num_nodes\n",
    "print \"loading done...\"\n",
    "G = ig.Graph(Edges, directed=False)\n",
    "print \"graph created...\"\n",
    "eigenve = G.eigenvector_centrality(directed=False)\n",
    "print \"betweenness calculated...\"\n",
    "layt = G.layout('kk', dim=3)\n",
    "\n",
    "Xn=[layt[k][0] for k in range(num_nodes)] # x-coordinates of nodes\n",
    "Yn=[layt[k][1] for k in range(num_nodes)] # y-coordinates\n",
    "Zn=[layt[k][2] for k in range(num_nodes)] # z-coordinates\n",
    "Xe=[]\n",
    "Ye=[]\n",
    "Ze=[]\n",
    "\n",
    "for e in Edges:\n",
    "    Xe +=[layt[e[0]][0],layt[e[1]][0], None]# x-coordinates of edge ends\n",
    "    Ye +=[layt[e[0]][1],layt[e[1]][1], None]\n",
    "    Ze +=[layt[e[0]][2],layt[e[1]][2], None]\n",
    "\n",
    "print \"before trace\"\n",
    "\n",
    "edge_trace = Scatter3d(x = Xe,\n",
    "               y = Ye,\n",
    "               z = Ze,\n",
    "               mode = 'lines',\n",
    "               line = Line(color='rgb(125,125,125)', width=1),\n",
    "               hoverinfo='none'\n",
    "               )\n",
    "node_trace = Scatter3d(x=Xn,\n",
    "               y=Yn,\n",
    "               z=Zn,\n",
    "               mode = 'markers',\n",
    "               name='People',\n",
    "               marker = Marker(symbol='dot',\n",
    "                             size=6,\n",
    "                             color=eigenve,\n",
    "                             colorscale='Reds',\n",
    "                             line=Line(color='rgb(50,50,50)', width=0.5)\n",
    "                             ),\n",
    "               text=labels_,\n",
    "               hoverinfo='text'\n",
    "               )\n",
    "print \"done with trace\"\n",
    "\n",
    "axis=dict(showbackground=False,\n",
    "          showline=False,\n",
    "          zeroline=False,\n",
    "          showgrid=True,\n",
    "          showticklabels=False,\n",
    "          title=''\n",
    "          )\n",
    "print \"here\"\n",
    "layout = Layout(\n",
    "         title=\"Network of junior ACME students study groups<br> (3D visualization - Eigenvector)\",\n",
    "         width=1000,\n",
    "         height=1000,\n",
    "         showlegend=False,\n",
    "         scene=Scene(\n",
    "         xaxis=XAxis(axis),\n",
    "         yaxis=YAxis(axis),\n",
    "         zaxis=ZAxis(axis),\n",
    "        ),\n",
    "     margin=Margin(\n",
    "        t=100\n",
    "    ),\n",
    "    hovermode='closest',\n",
    "    annotations=Annotations([\n",
    "           Annotation(\n",
    "           showarrow=False,\n",
    "            text=\"Data source: Survey performed on Junior cohort, Fall 2016\",\n",
    "            xref='paper',\n",
    "            yref='paper',\n",
    "            x=0,\n",
    "            y=0.1,\n",
    "            xanchor='left',\n",
    "            yanchor='bottom',\n",
    "            font=Font(\n",
    "            size=14\n",
    "            )\n",
    "            )\n",
    "        ]),    )\n",
    "\n",
    "data = Data([edge_trace, node_trace])\n",
    "fig = Figure(data=data, layout=layout)\n",
    "\n",
    "py.iplot(fig, filename='ACME network Eigenvector')"
   ]
  },
  {
   "cell_type": "code",
   "execution_count": 42,
   "metadata": {
    "collapsed": false
   },
   "outputs": [
    {
     "name": "stdout",
     "output_type": "stream",
     "text": [
      "edges  (159, 2)\n",
      "nodes  39\n",
      "loading done...\n",
      "graph created...\n",
      "betweenness calculated...\n",
      "before trace\n",
      "done with trace\n",
      "here\n"
     ]
    },
    {
     "data": {
      "text/html": [
       "<iframe id=\"igraph\" scrolling=\"no\" style=\"border:none;\" seamless=\"seamless\" src=\"https://plot.ly/~kolumbianisch/14.embed\" height=\"1000px\" width=\"1000px\"></iframe>"
      ],
      "text/plain": [
       "<plotly.tools.PlotlyDisplay object>"
      ]
     },
     "execution_count": 42,
     "metadata": {},
     "output_type": "execute_result"
    }
   ],
   "source": [
    "Edges, labels_ = notebook_()\n",
    "print \"edges \", np.shape(Edges)\n",
    "num_nodes = np.shape(labels_)[0]\n",
    "print \"nodes \", num_nodes\n",
    "print \"loading done...\"\n",
    "G = ig.Graph(Edges, directed=False)\n",
    "print \"graph created...\"\n",
    "between = G.betweenness()\n",
    "print \"betweenness calculated...\"\n",
    "layt = G.layout('kk', dim=3)\n",
    "\n",
    "Xn=[layt[k][0] for k in range(num_nodes)] # x-coordinates of nodes\n",
    "Yn=[layt[k][1] for k in range(num_nodes)] # y-coordinates\n",
    "Zn=[layt[k][2] for k in range(num_nodes)] # z-coordinates\n",
    "Xe=[]\n",
    "Ye=[]\n",
    "Ze=[]\n",
    "\n",
    "for e in Edges:\n",
    "    Xe +=[layt[e[0]][0],layt[e[1]][0], None]# x-coordinates of edge ends\n",
    "    Ye +=[layt[e[0]][1],layt[e[1]][1], None]\n",
    "    Ze +=[layt[e[0]][2],layt[e[1]][2], None]\n",
    "\n",
    "print \"before trace\"\n",
    "\n",
    "edge_trace = Scatter3d(x = Xe,\n",
    "               y = Ye,\n",
    "               z = Ze,\n",
    "               mode = 'lines',\n",
    "               line = Line(color='rgb(125,125,125)', width=1),\n",
    "               hoverinfo='none'\n",
    "               )\n",
    "node_trace = Scatter3d(x=Xn,\n",
    "               y=Yn,\n",
    "               z=Zn,\n",
    "               mode = 'markers',\n",
    "               name='People',\n",
    "               marker = Marker(symbol='dot',\n",
    "                             size=6,\n",
    "                             color=between,\n",
    "                             colorscale='Reds',\n",
    "                             line=Line(color='rgb(50,50,50)', width=0.5)\n",
    "                             ),\n",
    "               text=labels_,\n",
    "               hoverinfo='text'\n",
    "               )\n",
    "print \"done with trace\"\n",
    "\n",
    "axis=dict(showbackground=False,\n",
    "          showline=False,\n",
    "          zeroline=False,\n",
    "          showgrid=True,\n",
    "          showticklabels=False,\n",
    "          title=''\n",
    "          )\n",
    "print \"here\"\n",
    "layout = Layout(\n",
    "         title=\"Network of junior ACME students study groups<br> (3D visualization - Betweeness)\",\n",
    "         width=1000,\n",
    "         height=1000,\n",
    "         showlegend=False,\n",
    "         scene=Scene(\n",
    "         xaxis=XAxis(axis),\n",
    "         yaxis=YAxis(axis),\n",
    "         zaxis=ZAxis(axis),\n",
    "        ),\n",
    "     margin=Margin(\n",
    "        t=100\n",
    "    ),\n",
    "    hovermode='closest',\n",
    "    annotations=Annotations([\n",
    "           Annotation(\n",
    "           showarrow=False,\n",
    "            text=\"Data source: Survey performed on Junior cohort, Fall 2016\",\n",
    "            xref='paper',\n",
    "            yref='paper',\n",
    "            x=0,\n",
    "            y=0.1,\n",
    "            xanchor='left',\n",
    "            yanchor='bottom',\n",
    "            font=Font(\n",
    "            size=14\n",
    "            )\n",
    "            )\n",
    "        ]),    )\n",
    "\n",
    "data = Data([edge_trace, node_trace])\n",
    "fig = Figure(data=data, layout=layout)\n",
    "\n",
    "py.iplot(fig, filename='ACME network Betweeness')"
   ]
  },
  {
   "cell_type": "code",
   "execution_count": 5,
   "metadata": {
    "collapsed": true
   },
   "outputs": [],
   "source": [
    "import numpy as np\n",
    "import random\n",
    "import networkx as nx\n",
    "import matplotlib.pyplot as plt\n",
    "import mmap\n",
    "import time\n",
    "\n",
    "import plotly.plotly as py\n",
    "from scipy import sparse as sp\n",
    "from plotly.graph_objs import *\n",
    "\n",
    "import igraph as ig\n",
    "import pandas as pd"
   ]
  },
  {
   "cell_type": "code",
   "execution_count": 18,
   "metadata": {
    "collapsed": true
   },
   "outputs": [],
   "source": [
    "def notebook_():\n",
    "    data = pd.read_excel(\"junior_survey.xls\")\n",
    "    numpy_stuff = data.as_matrix(columns=None)\n",
    "    matriz_estudiantes = numpy_stuff[0:39,(9,11,13,15,17)]\n",
    "    lista = list(numpy_stuff[0:39,0])\n",
    "    # print np.shape(lista)\n",
    "    # adjacency = np.zeros((39,39))\n",
    "    sparse_adj = []\n",
    "    for i in xrange(39):\n",
    "        for j in xrange(5):\n",
    "            if matriz_estudiantes[i,j] in lista:\n",
    "                amigo = lista.index(matriz_estudiantes[i,j])\n",
    "                sparse_adj.append(tuple((i,amigo)))\n",
    "                \n",
    "    dictio = {i: lista[i] for i in xrange(39)}\n",
    "    return sparse_adj, lista"
   ]
  },
  {
   "cell_type": "code",
   "execution_count": 6,
   "metadata": {
    "collapsed": true
   },
   "outputs": [],
   "source": [
    "import plotly \n",
    "plotly.tools.set_credentials_file(username='kolumbianisch', api_key='Sy6MJv8T3iEjvW2QmWrO')"
   ]
  }
 ],
 "metadata": {
  "anaconda-cloud": {},
  "kernelspec": {
   "display_name": "Python [Root]",
   "language": "python",
   "name": "Python [Root]"
  },
  "language_info": {
   "codemirror_mode": {
    "name": "ipython",
    "version": 2
   },
   "file_extension": ".py",
   "mimetype": "text/x-python",
   "name": "python",
   "nbconvert_exporter": "python",
   "pygments_lexer": "ipython2",
   "version": "2.7.12"
  }
 },
 "nbformat": 4,
 "nbformat_minor": 2
}
